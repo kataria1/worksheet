{
 "cells": [
  {
   "cell_type": "code",
   "execution_count": 12,
   "id": "5100afcf",
   "metadata": {},
   "outputs": [
    {
     "name": "stdout",
     "output_type": "stream",
     "text": [
      "enter a value5\n",
      "the Factorial is = 120\n"
     ]
    }
   ],
   "source": [
    "i=int(input('enter a value'))\n",
    "fact=1\n",
    "while(i>0):\n",
    "    fact=fact*i\n",
    "    i=i-1\n",
    "print('the Factorial is =',fact)"
   ]
  },
  {
   "cell_type": "code",
   "execution_count": 23,
   "id": "a50f4b8b",
   "metadata": {},
   "outputs": [
    {
     "name": "stdout",
     "output_type": "stream",
     "text": [
      "enter a number12\n",
      "its a composite no\n"
     ]
    }
   ],
   "source": [
    "num=int(input('enter a number'))\n",
    "count=0\n",
    "i=1\n",
    "while i<=num:\n",
    "    if num%i==0:\n",
    "        count=count+1\n",
    "    i=i+1\n",
    "    \n",
    "if count==2:\n",
    "    print('Its a prime no.')\n",
    "elif count>2:\n",
    "    print('its a composite no')\n",
    "else:\n",
    "    print('the no is neither prime nor composite')"
   ]
  },
  {
   "cell_type": "code",
   "execution_count": null,
   "id": "c1a35c9e",
   "metadata": {},
   "outputs": [],
   "source": []
  }
 ],
 "metadata": {
  "kernelspec": {
   "display_name": "Python 3 (ipykernel)",
   "language": "python",
   "name": "python3"
  },
  "language_info": {
   "codemirror_mode": {
    "name": "ipython",
    "version": 3
   },
   "file_extension": ".py",
   "mimetype": "text/x-python",
   "name": "python",
   "nbconvert_exporter": "python",
   "pygments_lexer": "ipython3",
   "version": "3.9.12"
  }
 },
 "nbformat": 4,
 "nbformat_minor": 5
}
